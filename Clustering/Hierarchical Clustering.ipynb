{
 "cells": [
  {
   "cell_type": "code",
   "execution_count": 1,
   "metadata": {},
   "outputs": [
    {
     "data": {
      "image/png": "[encoded data removed]",
      "text/plain": [
       "<Figure size 432x288 with 1 Axes>"
      ]
     },
     "metadata": {
      "needs_background": "light"
     },
     "output_type": "display_data"
    }
   ],
   "source": [
    "import numpy as np\n",
    "import matplotlib.pyplot as plt\n",
    "\n",
    "x = [4, 5, 10, 4, 3, 11, 14 , 6, 10, 12]\n",
    "y = [21, 19, 24, 17, 16, 25, 24, 22, 21, 21]\n",
    "\n",
    "plt.scatter(x, y)\n",
    "plt.show()"
   ]
  },
  {
   "cell_type": "code",
   "execution_count": 2,
   "metadata": {},
   "outputs": [
    {
     "data": {
      "image/png": "[encoded data removed]",
      "text/plain": [
       "<Figure size 432x288 with 1 Axes>"
      ]
     },
     "metadata": {
      "needs_background": "light"
     },
     "output_type": "display_data"
    }
   ],
   "source": [
    "import numpy as np\n",
    "import matplotlib.pyplot as plt\n",
    "from scipy.cluster.hierarchy import dendrogram, linkage\n",
    "\n",
    "x = [4, 5, 10, 4, 3, 11, 14 , 6, 10, 12]\n",
    "y = [21, 19, 24, 17, 16, 25, 24, 22, 21, 21]\n",
    "\n",
    "data = list(zip(x, y))\n",
    "\n",
    "linkage_data = linkage(data, method='ward', metric='euclidean')\n",
    "dendrogram(linkage_data)\n",
    "\n",
    "plt.show()"
   ]
  },
  {
   "cell_type": "code",
   "execution_count": 3,
   "metadata": {},
   "outputs": [
    {
     "data": {
      "image/png": "[encoded data removed]",
      "text/plain": [
       "<Figure size 432x288 with 1 Axes>"
      ]
     },
     "metadata": {
      "needs_background": "light"
     },
     "output_type": "display_data"
    }
   ],
   "source": [
    "import numpy as np\n",
    "import matplotlib.pyplot as plt\n",
    "from sklearn.cluster import AgglomerativeClustering\n",
    "\n",
    "x = [4, 5, 10, 4, 3, 11, 14 , 6, 10, 12]\n",
    "y = [21, 19, 24, 17, 16, 25, 24, 22, 21, 21]\n",
    "\n",
    "data = list(zip(x, y))\n",
    "\n",
    "hierarchical_cluster = AgglomerativeClustering(n_clusters=2, affinity='euclidean', linkage='ward')\n",
    "labels = hierarchical_cluster.fit_predict(data)\n",
    "\n",
    "plt.scatter(x, y, c=labels)\n",
    "plt.show()"
   ]
  },
  {
   "attachments": {},
   "cell_type": "markdown",
   "metadata": {},
   "source": [
    "# Import Libraries"
   ]
  },
  {
   "cell_type": "code",
   "execution_count": 25,
   "metadata": {},
   "outputs": [],
   "source": [
    "import numpy as np\n",
    "import pandas as pd\n",
    "import matplotlib.pyplot as plt\n",
    "import seaborn as sns\n",
    "import matplotlib.pyplot as plt\n",
    "import matplotlib.cm as cm\n",
    "from sklearn.cluster import AgglomerativeClustering\n",
    "from scipy.cluster.hierarchy import dendrogram, linkage\n",
    "from sklearn.decomposition import PCA\n",
    "\n",
    "%matplotlib inline"
   ]
  },
  {
   "attachments": {},
   "cell_type": "markdown",
   "metadata": {},
   "source": [
    "# Import Dataset"
   ]
  },
  {
   "cell_type": "code",
   "execution_count": 5,
   "metadata": {},
   "outputs": [
    {
     "data": {
      "text/html": [
       "<div>\n",
       "<style scoped>\n",
       "    .dataframe tbody tr th:only-of-type {\n",
       "        vertical-align: middle;\n",
       "    }\n",
       "\n",
       "    .dataframe tbody tr th {\n",
       "        vertical-align: top;\n",
       "    }\n",
       "\n",
       "    .dataframe thead th {\n",
       "        text-align: right;\n",
       "    }\n",
       "</style>\n",
       "<table border=\"1\" class=\"dataframe\">\n",
       "  <thead>\n",
       "    <tr style=\"text-align: right;\">\n",
       "      <th></th>\n",
       "      <th>Unnamed: 0</th>\n",
       "      <th>popularity</th>\n",
       "      <th>key</th>\n",
       "      <th>year</th>\n",
       "      <th>mode</th>\n",
       "      <th>liveness</th>\n",
       "      <th>tempo</th>\n",
       "      <th>explicit</th>\n",
       "      <th>danceability</th>\n",
       "      <th>speechiness</th>\n",
       "      <th>instrumentalness</th>\n",
       "      <th>energy</th>\n",
       "      <th>loudness</th>\n",
       "      <th>acousticness</th>\n",
       "      <th>duration_ms</th>\n",
       "      <th>valence</th>\n",
       "      <th>genre</th>\n",
       "    </tr>\n",
       "  </thead>\n",
       "  <tbody>\n",
       "    <tr>\n",
       "      <th>0</th>\n",
       "      <td>0</td>\n",
       "      <td>0.264478</td>\n",
       "      <td>0.0</td>\n",
       "      <td>0.090909</td>\n",
       "      <td>0.865169</td>\n",
       "      <td>0.735225</td>\n",
       "      <td>0.825230</td>\n",
       "      <td>0.090909</td>\n",
       "      <td>0.744639</td>\n",
       "      <td>0.0</td>\n",
       "      <td>0.037084</td>\n",
       "      <td>0.307363</td>\n",
       "      <td>0.000018</td>\n",
       "      <td>0.401082</td>\n",
       "      <td>0.915499</td>\n",
       "      <td>0.232272</td>\n",
       "      <td>pop</td>\n",
       "    </tr>\n",
       "    <tr>\n",
       "      <th>1</th>\n",
       "      <td>1</td>\n",
       "      <td>0.145673</td>\n",
       "      <td>0.0</td>\n",
       "      <td>0.045455</td>\n",
       "      <td>0.887640</td>\n",
       "      <td>0.360520</td>\n",
       "      <td>0.891961</td>\n",
       "      <td>0.000000</td>\n",
       "      <td>0.770630</td>\n",
       "      <td>1.0</td>\n",
       "      <td>0.046310</td>\n",
       "      <td>0.010534</td>\n",
       "      <td>0.000000</td>\n",
       "      <td>0.710162</td>\n",
       "      <td>0.690876</td>\n",
       "      <td>0.588118</td>\n",
       "      <td>rock, pop</td>\n",
       "    </tr>\n",
       "    <tr>\n",
       "      <th>2</th>\n",
       "      <td>2</td>\n",
       "      <td>0.370598</td>\n",
       "      <td>0.0</td>\n",
       "      <td>0.045455</td>\n",
       "      <td>0.741573</td>\n",
       "      <td>0.472813</td>\n",
       "      <td>0.467217</td>\n",
       "      <td>0.636364</td>\n",
       "      <td>0.568584</td>\n",
       "      <td>1.0</td>\n",
       "      <td>0.010492</td>\n",
       "      <td>0.177238</td>\n",
       "      <td>0.000000</td>\n",
       "      <td>0.276007</td>\n",
       "      <td>0.256605</td>\n",
       "      <td>0.509441</td>\n",
       "      <td>pop, country</td>\n",
       "    </tr>\n",
       "    <tr>\n",
       "      <th>3</th>\n",
       "      <td>3</td>\n",
       "      <td>0.300402</td>\n",
       "      <td>0.0</td>\n",
       "      <td>0.090909</td>\n",
       "      <td>0.876404</td>\n",
       "      <td>0.498818</td>\n",
       "      <td>0.908908</td>\n",
       "      <td>0.000000</td>\n",
       "      <td>0.812877</td>\n",
       "      <td>0.0</td>\n",
       "      <td>0.042330</td>\n",
       "      <td>0.026928</td>\n",
       "      <td>0.000014</td>\n",
       "      <td>0.391461</td>\n",
       "      <td>0.541127</td>\n",
       "      <td>0.397615</td>\n",
       "      <td>rock, metal</td>\n",
       "    </tr>\n",
       "    <tr>\n",
       "      <th>4</th>\n",
       "      <td>4</td>\n",
       "      <td>0.235918</td>\n",
       "      <td>0.0</td>\n",
       "      <td>0.090909</td>\n",
       "      <td>0.730337</td>\n",
       "      <td>0.573286</td>\n",
       "      <td>0.924796</td>\n",
       "      <td>0.727273</td>\n",
       "      <td>0.776164</td>\n",
       "      <td>0.0</td>\n",
       "      <td>0.051375</td>\n",
       "      <td>0.041784</td>\n",
       "      <td>0.001056</td>\n",
       "      <td>0.075767</td>\n",
       "      <td>0.899454</td>\n",
       "      <td>0.746771</td>\n",
       "      <td>pop</td>\n",
       "    </tr>\n",
       "    <tr>\n",
       "      <th>...</th>\n",
       "      <td>...</td>\n",
       "      <td>...</td>\n",
       "      <td>...</td>\n",
       "      <td>...</td>\n",
       "      <td>...</td>\n",
       "      <td>...</td>\n",
       "      <td>...</td>\n",
       "      <td>...</td>\n",
       "      <td>...</td>\n",
       "      <td>...</td>\n",
       "      <td>...</td>\n",
       "      <td>...</td>\n",
       "      <td>...</td>\n",
       "      <td>...</td>\n",
       "      <td>...</td>\n",
       "      <td>...</td>\n",
       "      <td>...</td>\n",
       "    </tr>\n",
       "    <tr>\n",
       "      <th>1722</th>\n",
       "      <td>1722</td>\n",
       "      <td>0.183286</td>\n",
       "      <td>0.0</td>\n",
       "      <td>0.954545</td>\n",
       "      <td>0.887640</td>\n",
       "      <td>0.842790</td>\n",
       "      <td>0.719309</td>\n",
       "      <td>0.090909</td>\n",
       "      <td>0.763366</td>\n",
       "      <td>0.0</td>\n",
       "      <td>0.064399</td>\n",
       "      <td>0.043731</td>\n",
       "      <td>0.000000</td>\n",
       "      <td>0.101624</td>\n",
       "      <td>0.977538</td>\n",
       "      <td>0.516727</td>\n",
       "      <td>pop</td>\n",
       "    </tr>\n",
       "    <tr>\n",
       "      <th>1723</th>\n",
       "      <td>1723</td>\n",
       "      <td>0.176281</td>\n",
       "      <td>0.0</td>\n",
       "      <td>0.954545</td>\n",
       "      <td>0.876404</td>\n",
       "      <td>0.500000</td>\n",
       "      <td>0.685415</td>\n",
       "      <td>0.818182</td>\n",
       "      <td>0.731643</td>\n",
       "      <td>1.0</td>\n",
       "      <td>0.242041</td>\n",
       "      <td>0.119860</td>\n",
       "      <td>0.000021</td>\n",
       "      <td>0.100421</td>\n",
       "      <td>0.562520</td>\n",
       "      <td>0.729122</td>\n",
       "      <td>pop</td>\n",
       "    </tr>\n",
       "    <tr>\n",
       "      <th>1724</th>\n",
       "      <td>1724</td>\n",
       "      <td>0.236007</td>\n",
       "      <td>0.0</td>\n",
       "      <td>0.954545</td>\n",
       "      <td>0.775281</td>\n",
       "      <td>0.848700</td>\n",
       "      <td>0.659994</td>\n",
       "      <td>0.818182</td>\n",
       "      <td>0.586965</td>\n",
       "      <td>1.0</td>\n",
       "      <td>0.155210</td>\n",
       "      <td>0.068527</td>\n",
       "      <td>0.000000</td>\n",
       "      <td>0.303668</td>\n",
       "      <td>0.826719</td>\n",
       "      <td>0.251704</td>\n",
       "      <td>hip hop, country</td>\n",
       "    </tr>\n",
       "    <tr>\n",
       "      <th>1725</th>\n",
       "      <td>1725</td>\n",
       "      <td>0.156351</td>\n",
       "      <td>0.0</td>\n",
       "      <td>0.954545</td>\n",
       "      <td>0.842697</td>\n",
       "      <td>0.723404</td>\n",
       "      <td>0.492638</td>\n",
       "      <td>0.727273</td>\n",
       "      <td>0.642405</td>\n",
       "      <td>1.0</td>\n",
       "      <td>0.076700</td>\n",
       "      <td>0.461055</td>\n",
       "      <td>0.000002</td>\n",
       "      <td>0.241130</td>\n",
       "      <td>0.330410</td>\n",
       "      <td>0.284946</td>\n",
       "      <td>pop</td>\n",
       "    </tr>\n",
       "    <tr>\n",
       "      <th>1726</th>\n",
       "      <td>1726</td>\n",
       "      <td>0.275579</td>\n",
       "      <td>0.0</td>\n",
       "      <td>0.954545</td>\n",
       "      <td>0.955056</td>\n",
       "      <td>0.669031</td>\n",
       "      <td>0.748967</td>\n",
       "      <td>0.000000</td>\n",
       "      <td>0.840844</td>\n",
       "      <td>1.0</td>\n",
       "      <td>0.029486</td>\n",
       "      <td>0.196706</td>\n",
       "      <td>0.002477</td>\n",
       "      <td>0.077931</td>\n",
       "      <td>0.550754</td>\n",
       "      <td>0.397946</td>\n",
       "      <td>hip hop</td>\n",
       "    </tr>\n",
       "  </tbody>\n",
       "</table>\n",
       "<p>1727 rows × 17 columns</p>\n",
       "</div>"
      ],
      "text/plain": [
       "      Unnamed: 0  popularity  key      year      mode  liveness     tempo  \\\n",
       "0              0    0.264478  0.0  0.090909  0.865169  0.735225  0.825230   \n",
       "1              1    0.145673  0.0  0.045455  0.887640  0.360520  0.891961   \n",
       "2              2    0.370598  0.0  0.045455  0.741573  0.472813  0.467217   \n",
       "3              3    0.300402  0.0  0.090909  0.876404  0.498818  0.908908   \n",
       "4              4    0.235918  0.0  0.090909  0.730337  0.573286  0.924796   \n",
       "...          ...         ...  ...       ...       ...       ...       ...   \n",
       "1722        1722    0.183286  0.0  0.954545  0.887640  0.842790  0.719309   \n",
       "1723        1723    0.176281  0.0  0.954545  0.876404  0.500000  0.685415   \n",
       "1724        1724    0.236007  0.0  0.954545  0.775281  0.848700  0.659994   \n",
       "1725        1725    0.156351  0.0  0.954545  0.842697  0.723404  0.492638   \n",
       "1726        1726    0.275579  0.0  0.954545  0.955056  0.669031  0.748967   \n",
       "\n",
       "      explicit  danceability  speechiness  instrumentalness    energy  \\\n",
       "0     0.090909      0.744639          0.0          0.037084  0.307363   \n",
       "1     0.000000      0.770630          1.0          0.046310  0.010534   \n",
       "2     0.636364      0.568584          1.0          0.010492  0.177238   \n",
       "3     0.000000      0.812877          0.0          0.042330  0.026928   \n",
       "4     0.727273      0.776164          0.0          0.051375  0.041784   \n",
       "...        ...           ...          ...               ...       ...   \n",
       "1722  0.090909      0.763366          0.0          0.064399  0.043731   \n",
       "1723  0.818182      0.731643          1.0          0.242041  0.119860   \n",
       "1724  0.818182      0.586965          1.0          0.155210  0.068527   \n",
       "1725  0.727273      0.642405          1.0          0.076700  0.461055   \n",
       "1726  0.000000      0.840844          1.0          0.029486  0.196706   \n",
       "\n",
       "      loudness  acousticness  duration_ms   valence             genre  \n",
       "0     0.000018      0.401082     0.915499  0.232272               pop  \n",
       "1     0.000000      0.710162     0.690876  0.588118         rock, pop  \n",
       "2     0.000000      0.276007     0.256605  0.509441      pop, country  \n",
       "3     0.000014      0.391461     0.541127  0.397615       rock, metal  \n",
       "4     0.001056      0.075767     0.899454  0.746771               pop  \n",
       "...        ...           ...          ...       ...               ...  \n",
       "1722  0.000000      0.101624     0.977538  0.516727               pop  \n",
       "1723  0.000021      0.100421     0.562520  0.729122               pop  \n",
       "1724  0.000000      0.303668     0.826719  0.251704  hip hop, country  \n",
       "1725  0.000002      0.241130     0.330410  0.284946               pop  \n",
       "1726  0.002477      0.077931     0.550754  0.397946           hip hop  \n",
       "\n",
       "[1727 rows x 17 columns]"
      ]
     },
     "execution_count": 5,
     "metadata": {},
     "output_type": "execute_result"
    }
   ],
   "source": [
    "df = pd.read_csv('../Dataset/songs_normalize_preprocessed.csv')\n",
    "df"
   ]
  },
  {
   "attachments": {},
   "cell_type": "markdown",
   "metadata": {},
   "source": [
    "# Feature Selection"
   ]
  },
  {
   "cell_type": "code",
   "execution_count": 6,
   "metadata": {},
   "outputs": [],
   "source": [
    "df.drop(columns=['Unnamed: 0', 'genre', 'popularity', 'mode', 'tempo', 'duration_ms', 'key', 'year'], inplace=True)"
   ]
  },
  {
   "attachments": {},
   "cell_type": "markdown",
   "metadata": {},
   "source": [
    "# Showing the dendogram of linkaged data"
   ]
  },
  {
   "cell_type": "code",
   "execution_count": 7,
   "metadata": {},
   "outputs": [
    {
     "data": {
      "image/png": "[encoded data removed]",
      "text/plain": [
       "<Figure size 432x288 with 1 Axes>"
      ]
     },
     "metadata": {
      "needs_background": "light"
     },
     "output_type": "display_data"
    }
   ],
   "source": [
    "linkage_data = linkage(df, method='ward', metric='euclidean')\n",
    "dendrogram(linkage_data)\n",
    "\n",
    "plt.show()"
   ]
  },
  {
   "cell_type": "code",
   "execution_count": 50,
   "metadata": {},
   "outputs": [
    {
     "name": "stdout",
     "output_type": "stream",
     "text": [
      "0\n",
      "1\n",
      "2\n",
      "3\n"
     ]
    },
    {
     "data": {
      "image/png": "[encoded data removed]",
      "text/plain": [
       "<Figure size 576x432 with 1 Axes>"
      ]
     },
     "metadata": {
      "needs_background": "light"
     },
     "output_type": "display_data"
    }
   ],
   "source": [
    "data = df.values\n",
    "hierarchical_cluster = AgglomerativeClustering(n_clusters=4, affinity='euclidean', linkage='ward')\n",
    "labels = hierarchical_cluster.fit_predict(data)\n",
    "label = labels.astype('int32')\n",
    "\n",
    "fig, ax = plt.subplots(figsize=(8, 6))\n",
    "\n",
    "u_labels = np.unique(label)\n",
    "\n",
    "for i in u_labels:\n",
    "    print(i)\n",
    "    plt.scatter(data[label == i , 0] , data[label == i , 1] , label = i)\n",
    "plt.legend()\n",
    "plt.show()"
   ]
  },
  {
   "attachments": {},
   "cell_type": "markdown",
   "metadata": {},
   "source": [
    "# PCA"
   ]
  },
  {
   "attachments": {},
   "cell_type": "markdown",
   "metadata": {},
   "source": [
    "## Implementing PCA"
   ]
  },
  {
   "cell_type": "code",
   "execution_count": 26,
   "metadata": {},
   "outputs": [],
   "source": [
    "Newdf = df.copy()\n",
    "#Load Data\n",
    "pca = PCA(2)\n",
    "\n",
    "#Transform the data\n",
    "Newdf = pca.fit_transform(df)\n",
    "data = Newdf.copy()\n",
    "Newdf = pd.DataFrame(Newdf)"
   ]
  },
  {
   "cell_type": "code",
   "execution_count": 29,
   "metadata": {},
   "outputs": [
    {
     "data": {
      "image/png": "[encoded data removed]",
      "text/plain": [
       "<Figure size 432x288 with 1 Axes>"
      ]
     },
     "metadata": {
      "needs_background": "light"
     },
     "output_type": "display_data"
    }
   ],
   "source": [
    "linkage_data = linkage(Newdf, method='ward', metric='euclidean')\n",
    "dendrogram(linkage_data)\n",
    "\n",
    "plt.show()"
   ]
  },
  {
   "cell_type": "code",
   "execution_count": 49,
   "metadata": {},
   "outputs": [
    {
     "data": {
      "image/png": "[encoded data removed]",
      "text/plain": [
       "<Figure size 576x432 with 1 Axes>"
      ]
     },
     "metadata": {
      "needs_background": "light"
     },
     "output_type": "display_data"
    }
   ],
   "source": [
    "data = Newdf.values\n",
    "hierarchical_cluster = AgglomerativeClustering(n_clusters=4, affinity='euclidean', linkage='ward')\n",
    "labels = hierarchical_cluster.fit_predict(data)\n",
    "label = labels.astype('int32')\n",
    "\n",
    "fig, ax = plt.subplots(figsize=(8, 6))\n",
    "\n",
    "u_labels = np.unique(label)\n",
    "\n",
    "for i in u_labels:\n",
    "    plt.scatter(data[label == i , 0] , data[label == i , 1] , label = i)\n",
    "plt.legend()\n",
    "plt.show()"
   ]
  }
 ],
 "metadata": {
  "kernelspec": {
   "display_name": "Python 3",
   "language": "python",
   "name": "python3"
  },
  "language_info": {
   "codemirror_mode": {
    "name": "ipython",
    "version": 3
   },
   "file_extension": ".py",
   "mimetype": "text/x-python",
   "name": "python",
   "nbconvert_exporter": "python",
   "pygments_lexer": "ipython3",
   "version": "3.8.6 (tags/v3.8.6:db45529, Sep 23 2020, 15:52:53) [MSC v.1927 64 bit (AMD64)]"
  },
  "orig_nbformat": 4,
  "vscode": {
   "interpreter": {
    "hash": "723d4b7bc280cd31fdada53ad6420192b9a3a8d60631096143cc718cb9440dc1"
   }
  }
 },
 "nbformat": 4,
 "nbformat_minor": 2
}
