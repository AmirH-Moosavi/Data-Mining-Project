{
 "cells": [
  {
   "cell_type": "code",
   "execution_count": 3,
   "id": "db16a8ae",
   "metadata": {},
   "outputs": [],
   "source": [
    "import pandas as pd\n",
    "import warnings\n",
    "warnings.filterwarnings('ignore')\n",
    "\n",
    "import numpy as np\n",
    "from numpy import mean\n",
    "from numpy import std\n",
    "\n",
    "import matplotlib.pyplot as plt\n",
    "\n",
    "from sklearn import tree, svm\n",
    "from sklearn import metrics\n",
    "from sklearn.preprocessing import LabelEncoder\n",
    "from sklearn.model_selection import KFold, cross_val_score, train_test_split\n",
    "from sklearn.neighbors import KNeighborsClassifier\n",
    "from sklearn.metrics import classification_report, confusion_matrix, f1_score, jaccard_score"
   ]
  },
  {
   "cell_type": "markdown",
   "id": "a02c49d4",
   "metadata": {},
   "source": [
    "## read data"
   ]
  },
  {
   "cell_type": "code",
   "execution_count": 4,
   "id": "84dcf5e4",
   "metadata": {
    "scrolled": true
   },
   "outputs": [
    {
     "data": {
      "text/html": [
       "<div>\n",
       "<style scoped>\n",
       "    .dataframe tbody tr th:only-of-type {\n",
       "        vertical-align: middle;\n",
       "    }\n",
       "\n",
       "    .dataframe tbody tr th {\n",
       "        vertical-align: top;\n",
       "    }\n",
       "\n",
       "    .dataframe thead th {\n",
       "        text-align: right;\n",
       "    }\n",
       "</style>\n",
       "<table border=\"1\" class=\"dataframe\">\n",
       "  <thead>\n",
       "    <tr style=\"text-align: right;\">\n",
       "      <th></th>\n",
       "      <th>artist</th>\n",
       "      <th>song</th>\n",
       "      <th>duration_ms</th>\n",
       "      <th>explicit</th>\n",
       "      <th>year</th>\n",
       "      <th>popularity</th>\n",
       "      <th>danceability</th>\n",
       "      <th>energy</th>\n",
       "      <th>key</th>\n",
       "      <th>loudness</th>\n",
       "      <th>mode</th>\n",
       "      <th>speechiness</th>\n",
       "      <th>acousticness</th>\n",
       "      <th>instrumentalness</th>\n",
       "      <th>liveness</th>\n",
       "      <th>valence</th>\n",
       "      <th>tempo</th>\n",
       "      <th>genre</th>\n",
       "    </tr>\n",
       "  </thead>\n",
       "  <tbody>\n",
       "    <tr>\n",
       "      <th>0</th>\n",
       "      <td>Britney Spears</td>\n",
       "      <td>Oops!...I Did It Again</td>\n",
       "      <td>211160</td>\n",
       "      <td>False</td>\n",
       "      <td>2000</td>\n",
       "      <td>77</td>\n",
       "      <td>0.751</td>\n",
       "      <td>0.834</td>\n",
       "      <td>1</td>\n",
       "      <td>-5.444</td>\n",
       "      <td>0</td>\n",
       "      <td>0.0437</td>\n",
       "      <td>0.3000</td>\n",
       "      <td>0.000018</td>\n",
       "      <td>0.3550</td>\n",
       "      <td>0.894</td>\n",
       "      <td>95.053</td>\n",
       "      <td>pop</td>\n",
       "    </tr>\n",
       "    <tr>\n",
       "      <th>1</th>\n",
       "      <td>blink-182</td>\n",
       "      <td>All The Small Things</td>\n",
       "      <td>167066</td>\n",
       "      <td>False</td>\n",
       "      <td>1999</td>\n",
       "      <td>79</td>\n",
       "      <td>0.434</td>\n",
       "      <td>0.897</td>\n",
       "      <td>0</td>\n",
       "      <td>-4.918</td>\n",
       "      <td>1</td>\n",
       "      <td>0.0488</td>\n",
       "      <td>0.0103</td>\n",
       "      <td>0.000000</td>\n",
       "      <td>0.6120</td>\n",
       "      <td>0.684</td>\n",
       "      <td>148.726</td>\n",
       "      <td>rock, pop</td>\n",
       "    </tr>\n",
       "    <tr>\n",
       "      <th>2</th>\n",
       "      <td>Faith Hill</td>\n",
       "      <td>Breathe</td>\n",
       "      <td>250546</td>\n",
       "      <td>False</td>\n",
       "      <td>1999</td>\n",
       "      <td>66</td>\n",
       "      <td>0.529</td>\n",
       "      <td>0.496</td>\n",
       "      <td>7</td>\n",
       "      <td>-9.007</td>\n",
       "      <td>1</td>\n",
       "      <td>0.0290</td>\n",
       "      <td>0.1730</td>\n",
       "      <td>0.000000</td>\n",
       "      <td>0.2510</td>\n",
       "      <td>0.278</td>\n",
       "      <td>136.859</td>\n",
       "      <td>pop, country</td>\n",
       "    </tr>\n",
       "    <tr>\n",
       "      <th>3</th>\n",
       "      <td>Bon Jovi</td>\n",
       "      <td>It's My Life</td>\n",
       "      <td>224493</td>\n",
       "      <td>False</td>\n",
       "      <td>2000</td>\n",
       "      <td>78</td>\n",
       "      <td>0.551</td>\n",
       "      <td>0.913</td>\n",
       "      <td>0</td>\n",
       "      <td>-4.063</td>\n",
       "      <td>0</td>\n",
       "      <td>0.0466</td>\n",
       "      <td>0.0263</td>\n",
       "      <td>0.000013</td>\n",
       "      <td>0.3470</td>\n",
       "      <td>0.544</td>\n",
       "      <td>119.992</td>\n",
       "      <td>rock, metal</td>\n",
       "    </tr>\n",
       "    <tr>\n",
       "      <th>4</th>\n",
       "      <td>*NSYNC</td>\n",
       "      <td>Bye Bye Bye</td>\n",
       "      <td>200560</td>\n",
       "      <td>False</td>\n",
       "      <td>2000</td>\n",
       "      <td>65</td>\n",
       "      <td>0.614</td>\n",
       "      <td>0.928</td>\n",
       "      <td>8</td>\n",
       "      <td>-4.806</td>\n",
       "      <td>0</td>\n",
       "      <td>0.0516</td>\n",
       "      <td>0.0408</td>\n",
       "      <td>0.001040</td>\n",
       "      <td>0.0845</td>\n",
       "      <td>0.879</td>\n",
       "      <td>172.656</td>\n",
       "      <td>pop</td>\n",
       "    </tr>\n",
       "  </tbody>\n",
       "</table>\n",
       "</div>"
      ],
      "text/plain": [
       "           artist                    song  duration_ms  explicit  year  \\\n",
       "0  Britney Spears  Oops!...I Did It Again       211160     False  2000   \n",
       "1       blink-182    All The Small Things       167066     False  1999   \n",
       "2      Faith Hill                 Breathe       250546     False  1999   \n",
       "3        Bon Jovi            It's My Life       224493     False  2000   \n",
       "4          *NSYNC             Bye Bye Bye       200560     False  2000   \n",
       "\n",
       "   popularity  danceability  energy  key  loudness  mode  speechiness  \\\n",
       "0          77         0.751   0.834    1    -5.444     0       0.0437   \n",
       "1          79         0.434   0.897    0    -4.918     1       0.0488   \n",
       "2          66         0.529   0.496    7    -9.007     1       0.0290   \n",
       "3          78         0.551   0.913    0    -4.063     0       0.0466   \n",
       "4          65         0.614   0.928    8    -4.806     0       0.0516   \n",
       "\n",
       "   acousticness  instrumentalness  liveness  valence    tempo         genre  \n",
       "0        0.3000          0.000018    0.3550    0.894   95.053           pop  \n",
       "1        0.0103          0.000000    0.6120    0.684  148.726     rock, pop  \n",
       "2        0.1730          0.000000    0.2510    0.278  136.859  pop, country  \n",
       "3        0.0263          0.000013    0.3470    0.544  119.992   rock, metal  \n",
       "4        0.0408          0.001040    0.0845    0.879  172.656           pop  "
      ]
     },
     "execution_count": 4,
     "metadata": {},
     "output_type": "execute_result"
    }
   ],
   "source": [
    "data = pd.read_csv(\"../Dataset/songs_normalize.csv\")\n",
    "data.head(5)"
   ]
  },
  {
   "cell_type": "code",
   "execution_count": 5,
   "id": "7040bafe",
   "metadata": {
    "scrolled": true
   },
   "outputs": [
    {
     "data": {
      "text/plain": [
       "array([False, False, False, ..., False, False, False], dtype=object)"
      ]
     },
     "execution_count": 5,
     "metadata": {},
     "output_type": "execute_result"
    }
   ],
   "source": [
    "ind = data.columns.get_loc(\"explicit\")\n",
    "data.values[:, ind]"
   ]
  },
  {
   "cell_type": "code",
   "execution_count": 6,
   "id": "550943ce",
   "metadata": {
    "scrolled": true
   },
   "outputs": [
    {
     "data": {
      "text/plain": [
       "False    1449\n",
       "True      551\n",
       "Name: explicit, dtype: int64"
      ]
     },
     "execution_count": 6,
     "metadata": {},
     "output_type": "execute_result"
    }
   ],
   "source": [
    "data['explicit'].value_counts()"
   ]
  },
  {
   "cell_type": "code",
   "execution_count": 7,
   "id": "d2ccf459",
   "metadata": {
    "scrolled": false
   },
   "outputs": [
    {
     "data": {
      "text/plain": [
       "dtype('bool')"
      ]
     },
     "execution_count": 7,
     "metadata": {},
     "output_type": "execute_result"
    }
   ],
   "source": [
    "data['explicit'].dtypes"
   ]
  },
  {
   "cell_type": "markdown",
   "id": "c51dcaaf",
   "metadata": {},
   "source": [
    "## label encoding"
   ]
  },
  {
   "cell_type": "code",
   "execution_count": 8,
   "id": "835e5ba6",
   "metadata": {},
   "outputs": [
    {
     "name": "stdout",
     "output_type": "stream",
     "text": [
      "[0 0 0 ... 0 0 0]\n",
      "0    1449\n",
      "1     551\n",
      "Name: explicit, dtype: int64\n"
     ]
    }
   ],
   "source": [
    "le = LabelEncoder()\n",
    "le.fit([True, False])\n",
    "data['explicit'] = le.fit_transform(data.values[:, ind])\n",
    "\n",
    "print(data['explicit'].values)\n",
    "print(data['explicit'].value_counts())"
   ]
  },
  {
   "cell_type": "code",
   "execution_count": 9,
   "id": "3fae0672",
   "metadata": {
    "scrolled": false
   },
   "outputs": [
    {
     "data": {
      "text/plain": [
       "duration_ms         0.123595\n",
       "explicit            1.000000\n",
       "year                0.078477\n",
       "popularity          0.046605\n",
       "danceability        0.248845\n",
       "energy             -0.162462\n",
       "key                 0.003320\n",
       "loudness           -0.089829\n",
       "mode                0.049576\n",
       "speechiness         0.417343\n",
       "acousticness       -0.033523\n",
       "instrumentalness   -0.082522\n",
       "liveness            0.008884\n",
       "valence            -0.045455\n",
       "tempo               0.013221\n",
       "Name: explicit, dtype: float64"
      ]
     },
     "execution_count": 9,
     "metadata": {},
     "output_type": "execute_result"
    }
   ],
   "source": [
    "data.corr()['explicit']"
   ]
  },
  {
   "cell_type": "markdown",
   "id": "a81e4fd3",
   "metadata": {},
   "source": [
    "## feature selection"
   ]
  },
  {
   "cell_type": "code",
   "execution_count": 10,
   "id": "1a362c9b",
   "metadata": {},
   "outputs": [],
   "source": [
    "def corr_selection(threshold):\n",
    "    selected_features = []\n",
    "\n",
    "    for index, corr in enumerate(data.corr()['explicit']):\n",
    "        if abs(corr) >= threshold:\n",
    "            selected_features.append(data.columns[index+2])\n",
    "            \n",
    "    return selected_features"
   ]
  },
  {
   "cell_type": "code",
   "execution_count": 11,
   "id": "27648479",
   "metadata": {
    "scrolled": true
   },
   "outputs": [
    {
     "name": "stdout",
     "output_type": "stream",
     "text": [
      "selected features: ['duration_ms', 'explicit', 'danceability', 'energy', 'speechiness']\n"
     ]
    }
   ],
   "source": [
    "selected_features = corr_selection(0.1)\n",
    "print(\"selected features:\", selected_features)"
   ]
  },
  {
   "cell_type": "markdown",
   "id": "10b96a41",
   "metadata": {},
   "source": [
    "## splitting x and y"
   ]
  },
  {
   "cell_type": "code",
   "execution_count": 12,
   "id": "37fa4f89",
   "metadata": {},
   "outputs": [],
   "source": [
    "x = data[selected_features].values\n",
    "y = data[['explicit']].values"
   ]
  },
  {
   "cell_type": "markdown",
   "id": "57353b4e",
   "metadata": {},
   "source": [
    "## k-fold cross validation"
   ]
  },
  {
   "cell_type": "code",
   "execution_count": 13,
   "id": "79808708",
   "metadata": {},
   "outputs": [],
   "source": [
    "kf = KFold(n_splits=10, random_state=1, shuffle=True)\n",
    "    \n",
    "def cross_validation(model, x, y):\n",
    "    print(model)\n",
    "    scores = cross_val_score(model, x, y, cv=kf)\n",
    "    print('scores:', scores)\n",
    "    print('Accuracy: %.3f (%.3f)' % (mean(scores), std(scores)))"
   ]
  },
  {
   "cell_type": "code",
   "execution_count": 14,
   "id": "f70ac07d",
   "metadata": {},
   "outputs": [
    {
     "name": "stdout",
     "output_type": "stream",
     "text": [
      "Train set: (1600, 5) (1600, 1)\n",
      "Test set: (400, 5) (400, 1)\n"
     ]
    }
   ],
   "source": [
    "x_train, x_test, y_train, y_test = train_test_split(x, y, test_size=0.2)\n",
    "print ('Train set:', x_train.shape,  y_train.shape)\n",
    "print ('Test set:', x_test.shape,  y_test.shape)"
   ]
  },
  {
   "cell_type": "markdown",
   "id": "4c220937",
   "metadata": {},
   "source": [
    "## KNN(n=20)"
   ]
  },
  {
   "cell_type": "code",
   "execution_count": 15,
   "id": "8281e1ad",
   "metadata": {},
   "outputs": [
    {
     "name": "stdout",
     "output_type": "stream",
     "text": [
      "KNeighborsClassifier(n_neighbors=1)\n",
      "scores: [0.615 0.62  0.59  0.585 0.58  0.55  0.67  0.62  0.69  0.61 ]\n",
      "Accuracy: 0.613 (0.040)\n",
      "KNeighborsClassifier(n_neighbors=2)\n",
      "scores: [0.735 0.725 0.69  0.635 0.675 0.655 0.73  0.65  0.75  0.68 ]\n",
      "Accuracy: 0.693 (0.038)\n",
      "KNeighborsClassifier(n_neighbors=3)\n",
      "scores: [0.685 0.665 0.695 0.64  0.68  0.575 0.68  0.645 0.725 0.655]\n",
      "Accuracy: 0.665 (0.038)\n",
      "KNeighborsClassifier(n_neighbors=4)\n",
      "scores: [0.725 0.745 0.685 0.66  0.685 0.645 0.745 0.665 0.745 0.695]\n",
      "Accuracy: 0.700 (0.036)\n",
      "KNeighborsClassifier()\n",
      "scores: [0.69  0.7   0.665 0.66  0.68  0.605 0.7   0.655 0.72  0.675]\n",
      "Accuracy: 0.675 (0.030)\n",
      "KNeighborsClassifier(n_neighbors=6)\n",
      "scores: [0.725 0.745 0.695 0.67  0.68  0.675 0.73  0.685 0.745 0.7  ]\n",
      "Accuracy: 0.705 (0.027)\n",
      "KNeighborsClassifier(n_neighbors=7)\n",
      "scores: [0.68  0.715 0.68  0.655 0.67  0.63  0.705 0.675 0.715 0.675]\n",
      "Accuracy: 0.680 (0.025)\n",
      "KNeighborsClassifier(n_neighbors=8)\n",
      "scores: [0.72  0.76  0.715 0.665 0.715 0.65  0.73  0.7   0.74  0.7  ]\n",
      "Accuracy: 0.710 (0.031)\n",
      "KNeighborsClassifier(n_neighbors=9)\n",
      "scores: [0.7   0.745 0.715 0.665 0.71  0.63  0.715 0.685 0.715 0.685]\n",
      "Accuracy: 0.697 (0.030)\n",
      "KNeighborsClassifier(n_neighbors=10)\n",
      "scores: [0.705 0.75  0.715 0.675 0.715 0.67  0.74  0.695 0.73  0.71 ]\n",
      "Accuracy: 0.711 (0.025)\n",
      "KNeighborsClassifier(n_neighbors=11)\n",
      "scores: [0.715 0.745 0.705 0.675 0.73  0.66  0.73  0.685 0.725 0.705]\n",
      "Accuracy: 0.707 (0.026)\n",
      "KNeighborsClassifier(n_neighbors=12)\n",
      "scores: [0.725 0.755 0.71  0.68  0.7   0.67  0.74  0.685 0.745 0.705]\n",
      "Accuracy: 0.712 (0.028)\n",
      "KNeighborsClassifier(n_neighbors=13)\n",
      "scores: [0.73  0.755 0.715 0.685 0.7   0.665 0.735 0.695 0.735 0.7  ]\n",
      "Accuracy: 0.712 (0.026)\n",
      "KNeighborsClassifier(n_neighbors=14)\n",
      "scores: [0.735 0.755 0.715 0.695 0.705 0.68  0.735 0.695 0.75  0.7  ]\n",
      "Accuracy: 0.717 (0.024)\n",
      "KNeighborsClassifier(n_neighbors=15)\n",
      "scores: [0.73  0.73  0.72  0.695 0.68  0.67  0.735 0.69  0.755 0.7  ]\n",
      "Accuracy: 0.711 (0.026)\n",
      "KNeighborsClassifier(n_neighbors=16)\n",
      "scores: [0.74  0.745 0.705 0.685 0.705 0.69  0.735 0.685 0.755 0.7  ]\n",
      "Accuracy: 0.714 (0.025)\n",
      "KNeighborsClassifier(n_neighbors=17)\n",
      "scores: [0.75  0.74  0.7   0.695 0.685 0.675 0.735 0.695 0.745 0.705]\n",
      "Accuracy: 0.713 (0.026)\n",
      "KNeighborsClassifier(n_neighbors=18)\n",
      "scores: [0.76  0.75  0.695 0.69  0.685 0.69  0.735 0.69  0.745 0.7  ]\n",
      "Accuracy: 0.714 (0.028)\n",
      "KNeighborsClassifier(n_neighbors=19)\n",
      "scores: [0.735 0.74  0.7   0.69  0.675 0.69  0.74  0.7   0.75  0.705]\n",
      "Accuracy: 0.713 (0.025)\n"
     ]
    },
    {
     "data": {
      "text/plain": [
       "array([0.6225, 0.675 , 0.6625, 0.685 , 0.6575, 0.6975, 0.69  , 0.7   ,\n",
       "       0.6925, 0.705 , 0.7025, 0.7075, 0.715 , 0.725 , 0.7175, 0.72  ,\n",
       "       0.7125, 0.7025, 0.7075])"
      ]
     },
     "execution_count": 15,
     "metadata": {},
     "output_type": "execute_result"
    }
   ],
   "source": [
    "Ks = 20\n",
    "mean_acc = np.zeros((Ks-1))\n",
    "std_acc = np.zeros((Ks-1))\n",
    "\n",
    "for n in range(1,Ks):\n",
    "    model = KNeighborsClassifier(n_neighbors = n)\n",
    "    cross_validation(model, x, y)\n",
    "    neigh = model.fit(x_train,y_train)\n",
    "    y_=neigh.predict(x_test)\n",
    "    mean_acc[n-1] = metrics.accuracy_score(y_test, y_)\n",
    " \n",
    "    std_acc[n-1]=np.std(y_==y_test)/np.sqrt(y_.shape[0])\n",
    "\n",
    "mean_acc"
   ]
  },
  {
   "cell_type": "code",
   "execution_count": 16,
   "id": "b7fd44c6",
   "metadata": {
    "scrolled": false
   },
   "outputs": [
    {
     "data": {
      "image/png": "[encoded data removed]",
      "text/plain": [
       "<Figure size 432x288 with 1 Axes>"
      ]
     },
     "metadata": {
      "needs_background": "light"
     },
     "output_type": "display_data"
    }
   ],
   "source": [
    "plt.plot(range(1,Ks),mean_acc,'g')\n",
    "plt.fill_between(range(1,Ks),mean_acc - 1 * std_acc,mean_acc + 1 * std_acc, alpha=0.10)\n",
    "plt.fill_between(range(1,Ks),mean_acc - 3 * std_acc,mean_acc + 3 * std_acc, alpha=0.10,color=\"green\")\n",
    "plt.legend(('Accuracy ', '+/- 1xstd','+/- 3xstd'))\n",
    "plt.ylabel('Accuracy ')\n",
    "plt.xlabel('Number of Neighbors (K)')\n",
    "plt.tight_layout()\n",
    "plt.show()"
   ]
  },
  {
   "cell_type": "markdown",
   "id": "ce5bfb7e",
   "metadata": {},
   "source": [
    "## confusion matrix"
   ]
  },
  {
   "cell_type": "code",
   "execution_count": 17,
   "id": "ca0ede31",
   "metadata": {},
   "outputs": [],
   "source": [
    "def conf_matrix(model, y_test, y_pred):\n",
    "    actual = np.random.binomial(1,.9,size = 1000)\n",
    "    predicted = np.random.binomial(1,.9,size = 1000)\n",
    "\n",
    "    confusion_matrix = metrics.confusion_matrix(y_test, y_pred)\n",
    "    cm_display = metrics.ConfusionMatrixDisplay(confusion_matrix = confusion_matrix, display_labels = [0, 1])\n",
    "\n",
    "    cm_display.plot()\n",
    "    plt.show()"
   ]
  },
  {
   "cell_type": "code",
   "execution_count": 18,
   "id": "bb9bef4b",
   "metadata": {},
   "outputs": [
    {
     "data": {
      "image/png": "[encoded data removed]",
      "text/plain": [
       "<Figure size 432x288 with 2 Axes>"
      ]
     },
     "metadata": {
      "needs_background": "light"
     },
     "output_type": "display_data"
    }
   ],
   "source": [
    "conf_matrix(model, y_test, y_)"
   ]
  },
  {
   "cell_type": "markdown",
   "id": "37c4704b",
   "metadata": {},
   "source": [
    "## SVM"
   ]
  },
  {
   "cell_type": "code",
   "execution_count": 19,
   "id": "95e9e4f4",
   "metadata": {},
   "outputs": [
    {
     "data": {
      "text/plain": [
       "SVC(kernel='sigmoid')"
      ]
     },
     "execution_count": 19,
     "metadata": {},
     "output_type": "execute_result"
    }
   ],
   "source": [
    "svm_model = svm.SVC(kernel='sigmoid')\n",
    "svm_model.fit(x_train, y_train) "
   ]
  },
  {
   "cell_type": "code",
   "execution_count": 20,
   "id": "facbf6f4",
   "metadata": {},
   "outputs": [],
   "source": [
    "y_ = svm_model.predict(x_test)"
   ]
  },
  {
   "cell_type": "markdown",
   "id": "5584e486",
   "metadata": {},
   "source": [
    "## evaluations"
   ]
  },
  {
   "cell_type": "code",
   "execution_count": 21,
   "id": "cddc493b",
   "metadata": {
    "scrolled": true
   },
   "outputs": [
    {
     "name": "stdout",
     "output_type": "stream",
     "text": [
      "[[231  55]\n",
      " [ 95  19]]\n",
      "              precision    recall  f1-score   support\n",
      "\n",
      "           0       0.71      0.81      0.75       286\n",
      "           1       0.26      0.17      0.20       114\n",
      "\n",
      "    accuracy                           0.62       400\n",
      "   macro avg       0.48      0.49      0.48       400\n",
      "weighted avg       0.58      0.62      0.60       400\n",
      "\n"
     ]
    }
   ],
   "source": [
    "print(confusion_matrix(y_test, y_, labels=[0, 1]))\n",
    "print(classification_report(y_test, y_))"
   ]
  },
  {
   "cell_type": "code",
   "execution_count": 22,
   "id": "dbaf5b6a",
   "metadata": {
    "scrolled": true
   },
   "outputs": [
    {
     "data": {
      "image/png": "[encoded data removed]",
      "text/plain": [
       "<Figure size 432x288 with 2 Axes>"
      ]
     },
     "metadata": {
      "needs_background": "light"
     },
     "output_type": "display_data"
    }
   ],
   "source": [
    "conf_matrix(svm_model, y_test, y_)"
   ]
  },
  {
   "cell_type": "code",
   "execution_count": 23,
   "id": "0016aae1",
   "metadata": {},
   "outputs": [
    {
     "name": "stdout",
     "output_type": "stream",
     "text": [
      "f1-score: 0.5973612849395077\n",
      "jaccard score: 0.6062992125984252\n"
     ]
    }
   ],
   "source": [
    "\n",
    "print('f1-score:', f1_score(y_test, y_, average='weighted') )\n",
    "print('jaccard score:', jaccard_score(y_, y_test, pos_label=0))"
   ]
  },
  {
   "attachments": {},
   "cell_type": "markdown",
   "id": "d7904918",
   "metadata": {},
   "source": [
    "# Decision Tree"
   ]
  },
  {
   "cell_type": "code",
   "execution_count": 24,
   "id": "9a985b2f",
   "metadata": {},
   "outputs": [
    {
     "name": "stdout",
     "output_type": "stream",
     "text": [
      "zeros:  1163\n",
      "ones:  437\n",
      "Gini : 0.39705546874999986\n",
      "Accuracy: 1.0\n"
     ]
    },
    {
     "data": {
      "image/png": "[encoded data removed]",
      "text/plain": [
       "<Figure size 432x288 with 1 Axes>"
      ]
     },
     "metadata": {
      "needs_background": "light"
     },
     "output_type": "display_data"
    }
   ],
   "source": [
    "model = tree.DecisionTreeClassifier()\n",
    "model = model.fit(x_train, y_train)\n",
    "\n",
    "predicted_value = model.predict(x_test)\n",
    "\n",
    "tree.plot_tree(model)\n",
    "\n",
    "zeroes = 0\n",
    "ones = 0\n",
    "for i in range(0, len(y_train)):\n",
    "\tif y_train[i] == 0:\n",
    "\t\tzeroes += 1\n",
    "\telse:\n",
    "\t\tones += 1\n",
    "\n",
    "print('zeros: ', zeroes)\n",
    "print('ones: ', ones)\n",
    "\n",
    "val = 1 - ((zeroes/1600)*(zeroes/1600) + (ones/1600)*(ones/1600))\n",
    "print(\"Gini :\", val)\n",
    "\n",
    "y_pred = model.predict(x_test)\n",
    "print(\"Accuracy:\",metrics.accuracy_score(y_test, y_pred))\n",
    "\n"
   ]
  }
 ],
 "metadata": {
  "kernelspec": {
   "display_name": "Python 3 (ipykernel)",
   "language": "python",
   "name": "python3"
  },
  "language_info": {
   "codemirror_mode": {
    "name": "ipython",
    "version": 3
   },
   "file_extension": ".py",
   "mimetype": "text/x-python",
   "name": "python",
   "nbconvert_exporter": "python",
   "pygments_lexer": "ipython3",
   "version": "3.8.6"
  }
 },
 "nbformat": 4,
 "nbformat_minor": 5
}
